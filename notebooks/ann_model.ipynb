{
 "cells": [
  {
   "cell_type": "code",
   "execution_count": 1,
   "metadata": {
    "collapsed": true,
    "pycharm": {
     "name": "#%%\n"
    }
   },
   "outputs": [],
   "source": [
    "import pandas as pd\n",
    "import numpy as np\n",
    "import matplotlib.pyplot as plt\n",
    "import tensorflow as tf\n",
    "from sklearn.model_selection import train_test_split\n",
    "from sklearn.preprocessing import StandardScaler"
   ]
  },
  {
   "cell_type": "code",
   "execution_count": 3,
   "outputs": [
    {
     "data": {
      "text/plain": "     Elevation  Aspect  Slope  Horizontal_Distance_To_Hydrology  \\\n0         2596      51      3                               258   \n1         2590      56      2                               212   \n2         2804     139      9                               268   \n3         2785     155     18                               242   \n4         2595      45      2                               153   \n..         ...     ...    ...                               ...   \n995       2982      10     18                                30   \n996       3032     339     14                                95   \n997       2896      72     16                               319   \n998       2846     135      2                                 0   \n999       2995      39     18                                 0   \n\n     Vertical_Distance_To_Hydrology  Horizontal_Distance_To_Roadways  \\\n0                                 0                              510   \n1                                -6                              390   \n2                                65                             3180   \n3                               118                             3090   \n4                                -1                              391   \n..                              ...                              ...   \n995                               7                             4562   \n996                              23                             4710   \n997                              44                             3294   \n998                               0                             3056   \n999                               0                             4472   \n\n     Hillshade_9am  Hillshade_Noon  Hillshade_3pm  \\\n0              221             232            148   \n1              220             235            151   \n2              234             238            135   \n3              238             238            122   \n4              220             234            150   \n..             ...             ...            ...   \n995            197             200            136   \n996            189             219            169   \n997            236             208             98   \n998            222             238            152   \n999            218             198            109   \n\n     Horizontal_Distance_To_Fire_Points  ...  Soil_Type_32  Soil_Type_33  \\\n0                                  6279  ...             0             0   \n1                                  6225  ...             0             0   \n2                                  6121  ...             0             0   \n3                                  6211  ...             0             0   \n4                                  6172  ...             0             0   \n..                                  ...  ...           ...           ...   \n995                                2538  ...             0             0   \n996                                 518  ...             0             0   \n997                                2726  ...             0             0   \n998                                2349  ...             0             0   \n999                                2609  ...             0             0   \n\n     Soil_Type_34  Soil_Type_35  Soil_Type_36  Soil_Type_37  Soil_Type_38  \\\n0               0             0             0             0             0   \n1               0             0             0             0             0   \n2               0             0             0             0             0   \n3               0             0             0             0             0   \n4               0             0             0             0             0   \n..            ...           ...           ...           ...           ...   \n995             0             0             0             0             0   \n996             0             0             0             0             0   \n997             0             0             0             0             0   \n998             0             0             0             0             0   \n999             0             0             0             0             0   \n\n     Soil_Type_39  Soil_Type_40  Cover_Type  \n0               0             0           5  \n1               0             0           5  \n2               0             0           2  \n3               0             0           2  \n4               0             0           5  \n..            ...           ...         ...  \n995             0             0           1  \n996             0             0           1  \n997             0             0           2  \n998             0             0           1  \n999             0             0           1  \n\n[1000 rows x 55 columns]",
      "text/html": "<div>\n<style scoped>\n    .dataframe tbody tr th:only-of-type {\n        vertical-align: middle;\n    }\n\n    .dataframe tbody tr th {\n        vertical-align: top;\n    }\n\n    .dataframe thead th {\n        text-align: right;\n    }\n</style>\n<table border=\"1\" class=\"dataframe\">\n  <thead>\n    <tr style=\"text-align: right;\">\n      <th></th>\n      <th>Elevation</th>\n      <th>Aspect</th>\n      <th>Slope</th>\n      <th>Horizontal_Distance_To_Hydrology</th>\n      <th>Vertical_Distance_To_Hydrology</th>\n      <th>Horizontal_Distance_To_Roadways</th>\n      <th>Hillshade_9am</th>\n      <th>Hillshade_Noon</th>\n      <th>Hillshade_3pm</th>\n      <th>Horizontal_Distance_To_Fire_Points</th>\n      <th>...</th>\n      <th>Soil_Type_32</th>\n      <th>Soil_Type_33</th>\n      <th>Soil_Type_34</th>\n      <th>Soil_Type_35</th>\n      <th>Soil_Type_36</th>\n      <th>Soil_Type_37</th>\n      <th>Soil_Type_38</th>\n      <th>Soil_Type_39</th>\n      <th>Soil_Type_40</th>\n      <th>Cover_Type</th>\n    </tr>\n  </thead>\n  <tbody>\n    <tr>\n      <th>0</th>\n      <td>2596</td>\n      <td>51</td>\n      <td>3</td>\n      <td>258</td>\n      <td>0</td>\n      <td>510</td>\n      <td>221</td>\n      <td>232</td>\n      <td>148</td>\n      <td>6279</td>\n      <td>...</td>\n      <td>0</td>\n      <td>0</td>\n      <td>0</td>\n      <td>0</td>\n      <td>0</td>\n      <td>0</td>\n      <td>0</td>\n      <td>0</td>\n      <td>0</td>\n      <td>5</td>\n    </tr>\n    <tr>\n      <th>1</th>\n      <td>2590</td>\n      <td>56</td>\n      <td>2</td>\n      <td>212</td>\n      <td>-6</td>\n      <td>390</td>\n      <td>220</td>\n      <td>235</td>\n      <td>151</td>\n      <td>6225</td>\n      <td>...</td>\n      <td>0</td>\n      <td>0</td>\n      <td>0</td>\n      <td>0</td>\n      <td>0</td>\n      <td>0</td>\n      <td>0</td>\n      <td>0</td>\n      <td>0</td>\n      <td>5</td>\n    </tr>\n    <tr>\n      <th>2</th>\n      <td>2804</td>\n      <td>139</td>\n      <td>9</td>\n      <td>268</td>\n      <td>65</td>\n      <td>3180</td>\n      <td>234</td>\n      <td>238</td>\n      <td>135</td>\n      <td>6121</td>\n      <td>...</td>\n      <td>0</td>\n      <td>0</td>\n      <td>0</td>\n      <td>0</td>\n      <td>0</td>\n      <td>0</td>\n      <td>0</td>\n      <td>0</td>\n      <td>0</td>\n      <td>2</td>\n    </tr>\n    <tr>\n      <th>3</th>\n      <td>2785</td>\n      <td>155</td>\n      <td>18</td>\n      <td>242</td>\n      <td>118</td>\n      <td>3090</td>\n      <td>238</td>\n      <td>238</td>\n      <td>122</td>\n      <td>6211</td>\n      <td>...</td>\n      <td>0</td>\n      <td>0</td>\n      <td>0</td>\n      <td>0</td>\n      <td>0</td>\n      <td>0</td>\n      <td>0</td>\n      <td>0</td>\n      <td>0</td>\n      <td>2</td>\n    </tr>\n    <tr>\n      <th>4</th>\n      <td>2595</td>\n      <td>45</td>\n      <td>2</td>\n      <td>153</td>\n      <td>-1</td>\n      <td>391</td>\n      <td>220</td>\n      <td>234</td>\n      <td>150</td>\n      <td>6172</td>\n      <td>...</td>\n      <td>0</td>\n      <td>0</td>\n      <td>0</td>\n      <td>0</td>\n      <td>0</td>\n      <td>0</td>\n      <td>0</td>\n      <td>0</td>\n      <td>0</td>\n      <td>5</td>\n    </tr>\n    <tr>\n      <th>...</th>\n      <td>...</td>\n      <td>...</td>\n      <td>...</td>\n      <td>...</td>\n      <td>...</td>\n      <td>...</td>\n      <td>...</td>\n      <td>...</td>\n      <td>...</td>\n      <td>...</td>\n      <td>...</td>\n      <td>...</td>\n      <td>...</td>\n      <td>...</td>\n      <td>...</td>\n      <td>...</td>\n      <td>...</td>\n      <td>...</td>\n      <td>...</td>\n      <td>...</td>\n      <td>...</td>\n    </tr>\n    <tr>\n      <th>995</th>\n      <td>2982</td>\n      <td>10</td>\n      <td>18</td>\n      <td>30</td>\n      <td>7</td>\n      <td>4562</td>\n      <td>197</td>\n      <td>200</td>\n      <td>136</td>\n      <td>2538</td>\n      <td>...</td>\n      <td>0</td>\n      <td>0</td>\n      <td>0</td>\n      <td>0</td>\n      <td>0</td>\n      <td>0</td>\n      <td>0</td>\n      <td>0</td>\n      <td>0</td>\n      <td>1</td>\n    </tr>\n    <tr>\n      <th>996</th>\n      <td>3032</td>\n      <td>339</td>\n      <td>14</td>\n      <td>95</td>\n      <td>23</td>\n      <td>4710</td>\n      <td>189</td>\n      <td>219</td>\n      <td>169</td>\n      <td>518</td>\n      <td>...</td>\n      <td>0</td>\n      <td>0</td>\n      <td>0</td>\n      <td>0</td>\n      <td>0</td>\n      <td>0</td>\n      <td>0</td>\n      <td>0</td>\n      <td>0</td>\n      <td>1</td>\n    </tr>\n    <tr>\n      <th>997</th>\n      <td>2896</td>\n      <td>72</td>\n      <td>16</td>\n      <td>319</td>\n      <td>44</td>\n      <td>3294</td>\n      <td>236</td>\n      <td>208</td>\n      <td>98</td>\n      <td>2726</td>\n      <td>...</td>\n      <td>0</td>\n      <td>0</td>\n      <td>0</td>\n      <td>0</td>\n      <td>0</td>\n      <td>0</td>\n      <td>0</td>\n      <td>0</td>\n      <td>0</td>\n      <td>2</td>\n    </tr>\n    <tr>\n      <th>998</th>\n      <td>2846</td>\n      <td>135</td>\n      <td>2</td>\n      <td>0</td>\n      <td>0</td>\n      <td>3056</td>\n      <td>222</td>\n      <td>238</td>\n      <td>152</td>\n      <td>2349</td>\n      <td>...</td>\n      <td>0</td>\n      <td>0</td>\n      <td>0</td>\n      <td>0</td>\n      <td>0</td>\n      <td>0</td>\n      <td>0</td>\n      <td>0</td>\n      <td>0</td>\n      <td>1</td>\n    </tr>\n    <tr>\n      <th>999</th>\n      <td>2995</td>\n      <td>39</td>\n      <td>18</td>\n      <td>0</td>\n      <td>0</td>\n      <td>4472</td>\n      <td>218</td>\n      <td>198</td>\n      <td>109</td>\n      <td>2609</td>\n      <td>...</td>\n      <td>0</td>\n      <td>0</td>\n      <td>0</td>\n      <td>0</td>\n      <td>0</td>\n      <td>0</td>\n      <td>0</td>\n      <td>0</td>\n      <td>0</td>\n      <td>1</td>\n    </tr>\n  </tbody>\n</table>\n<p>1000 rows × 55 columns</p>\n</div>"
     },
     "execution_count": 3,
     "metadata": {},
     "output_type": "execute_result"
    }
   ],
   "source": [
    "# url = \"https://archive.ics.uci.edu/ml/machine-learning-databases/covtype/covtype.data.gz\"\n",
    "data = pd.read_csv('../covtype.data', header=None)\n",
    "data = data.iloc[:1000, :]\n",
    "\n",
    "columns = [\n",
    "    'Elevation', 'Aspect', 'Slope', 'Horizontal_Distance_To_Hydrology',\n",
    "    'Vertical_Distance_To_Hydrology', 'Horizontal_Distance_To_Roadways',\n",
    "    'Hillshade_9am', 'Hillshade_Noon', 'Hillshade_3pm',\n",
    "    'Horizontal_Distance_To_Fire_Points'\n",
    "]\n",
    "wilderness_areas = [f'Wilderness_Area_{i}' for i in range(1, 5)]\n",
    "soil_types = [f'Soil_Type_{i}' for i in range(1, 41)]\n",
    "columns.extend(wilderness_areas)\n",
    "columns.extend(soil_types)\n",
    "columns.append('Cover_Type')\n",
    "data.columns = columns\n",
    "data"
   ],
   "metadata": {
    "collapsed": false,
    "pycharm": {
     "name": "#%%\n"
    }
   }
  },
  {
   "cell_type": "code",
   "execution_count": 4,
   "outputs": [],
   "source": [
    "X_train, X_test, y_train, y_test = train_test_split(data.drop(\"Cover_Type\", axis=1), data[\"Cover_Type\"], test_size=0.2)"
   ],
   "metadata": {
    "collapsed": false,
    "pycharm": {
     "name": "#%%\n"
    }
   }
  },
  {
   "cell_type": "code",
   "execution_count": 5,
   "outputs": [],
   "source": [
    "scaler = StandardScaler()\n",
    "X_train = scaler.fit_transform(X_train)\n",
    "X_test = scaler.transform(X_test)"
   ],
   "metadata": {
    "collapsed": false,
    "pycharm": {
     "name": "#%%\n"
    }
   }
  },
  {
   "cell_type": "code",
   "execution_count": 6,
   "outputs": [],
   "source": [
    "model = tf.keras.models.Sequential([\n",
    "    tf.keras.layers.Dense(128, activation=\"relu\", input_shape=(X_train.shape[1],)),\n",
    "    tf.keras.layers.Dense(7, activation=\"softmax\")\n",
    "])"
   ],
   "metadata": {
    "collapsed": false,
    "pycharm": {
     "name": "#%%\n"
    }
   }
  },
  {
   "cell_type": "code",
   "execution_count": 7,
   "outputs": [],
   "source": [
    "model.compile(optimizer=\"adam\", loss=\"sparse_categorical_crossentropy\", metrics=[\"accuracy\"])"
   ],
   "metadata": {
    "collapsed": false,
    "pycharm": {
     "name": "#%%\n"
    }
   }
  },
  {
   "cell_type": "code",
   "execution_count": 8,
   "outputs": [
    {
     "name": "stdout",
     "output_type": "stream",
     "text": [
      "Epoch 1/10\n",
      "20/20 [==============================] - 2s 26ms/step - loss: 1.7366 - accuracy: 0.3281 - val_loss: 1.4621 - val_accuracy: 0.4688\n",
      "Epoch 2/10\n",
      "20/20 [==============================] - 0s 6ms/step - loss: 1.2168 - accuracy: 0.5891 - val_loss: 1.1210 - val_accuracy: 0.5625\n",
      "Epoch 3/10\n",
      "20/20 [==============================] - 0s 7ms/step - loss: 0.9514 - accuracy: 0.6422 - val_loss: 0.9549 - val_accuracy: 0.5813\n",
      "Epoch 4/10\n",
      "20/20 [==============================] - 0s 6ms/step - loss: 0.8188 - accuracy: 0.6734 - val_loss: 0.8622 - val_accuracy: 0.6375\n",
      "Epoch 5/10\n",
      "20/20 [==============================] - 0s 6ms/step - loss: 0.7421 - accuracy: 0.6938 - val_loss: 0.8084 - val_accuracy: 0.6375\n",
      "Epoch 6/10\n",
      "20/20 [==============================] - 0s 5ms/step - loss: 0.6952 - accuracy: 0.7109 - val_loss: 0.7752 - val_accuracy: 0.6562\n",
      "Epoch 7/10\n",
      "20/20 [==============================] - 0s 6ms/step - loss: 0.6628 - accuracy: 0.7297 - val_loss: 0.7388 - val_accuracy: 0.6812\n",
      "Epoch 8/10\n",
      "20/20 [==============================] - 0s 5ms/step - loss: 0.6345 - accuracy: 0.7375 - val_loss: 0.7221 - val_accuracy: 0.6750\n",
      "Epoch 9/10\n",
      "20/20 [==============================] - 0s 5ms/step - loss: 0.6116 - accuracy: 0.7422 - val_loss: 0.6968 - val_accuracy: 0.7063\n",
      "Epoch 10/10\n",
      "20/20 [==============================] - 0s 5ms/step - loss: 0.5934 - accuracy: 0.7594 - val_loss: 0.6799 - val_accuracy: 0.7125\n"
     ]
    },
    {
     "data": {
      "text/plain": "<keras.callbacks.History at 0x1e80dcab7c0>"
     },
     "execution_count": 8,
     "metadata": {},
     "output_type": "execute_result"
    }
   ],
   "source": [
    "model.fit(X_train, y_train, epochs=10, batch_size=32, validation_split=0.2)"
   ],
   "metadata": {
    "collapsed": false,
    "pycharm": {
     "name": "#%%\n"
    }
   }
  },
  {
   "cell_type": "code",
   "execution_count": null,
   "outputs": [],
   "source": [],
   "metadata": {
    "collapsed": false,
    "pycharm": {
     "name": "#%%\n"
    }
   }
  }
 ],
 "metadata": {
  "kernelspec": {
   "display_name": "Python 3",
   "language": "python",
   "name": "python3"
  },
  "language_info": {
   "codemirror_mode": {
    "name": "ipython",
    "version": 2
   },
   "file_extension": ".py",
   "mimetype": "text/x-python",
   "name": "python",
   "nbconvert_exporter": "python",
   "pygments_lexer": "ipython2",
   "version": "2.7.6"
  }
 },
 "nbformat": 4,
 "nbformat_minor": 0
}