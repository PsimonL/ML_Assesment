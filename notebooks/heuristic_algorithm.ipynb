{
 "cells": [
  {
   "cell_type": "code",
   "execution_count": 1,
   "metadata": {
    "collapsed": true,
    "pycharm": {
     "name": "#%%\n"
    }
   },
   "outputs": [],
   "source": [
    "import pandas as pd\n",
    "import numpy as np\n",
    "import seaborn as sns\n",
    "import matplotlib.pyplot as plt"
   ]
  },
  {
   "cell_type": "code",
   "execution_count": 2,
   "outputs": [
    {
     "data": {
      "text/plain": "        Elevation  Aspect  Slope  Horizontal_Distance_To_Hydrology  \\\n0            2596      51      3                               258   \n1            2590      56      2                               212   \n2            2804     139      9                               268   \n3            2785     155     18                               242   \n4            2595      45      2                               153   \n...           ...     ...    ...                               ...   \n581007       2396     153     20                                85   \n581008       2391     152     19                                67   \n581009       2386     159     17                                60   \n581010       2384     170     15                                60   \n581011       2383     165     13                                60   \n\n        Vertical_Distance_To_Hydrology  Horizontal_Distance_To_Roadways  \\\n0                                    0                              510   \n1                                   -6                              390   \n2                                   65                             3180   \n3                                  118                             3090   \n4                                   -1                              391   \n...                                ...                              ...   \n581007                              17                              108   \n581008                              12                               95   \n581009                               7                               90   \n581010                               5                               90   \n581011                               4                               67   \n\n        Hillshade_9am  Hillshade_Noon  Hillshade_3pm  \\\n0                 221             232            148   \n1                 220             235            151   \n2                 234             238            135   \n3                 238             238            122   \n4                 220             234            150   \n...               ...             ...            ...   \n581007            240             237            118   \n581008            240             237            119   \n581009            236             241            130   \n581010            230             245            143   \n581011            231             244            141   \n\n        Horizontal_Distance_To_Fire_Points  ...  Soil_Type_32  Soil_Type_33  \\\n0                                     6279  ...             0             0   \n1                                     6225  ...             0             0   \n2                                     6121  ...             0             0   \n3                                     6211  ...             0             0   \n4                                     6172  ...             0             0   \n...                                    ...  ...           ...           ...   \n581007                                 837  ...             0             0   \n581008                                 845  ...             0             0   \n581009                                 854  ...             0             0   \n581010                                 864  ...             0             0   \n581011                                 875  ...             0             0   \n\n        Soil_Type_34  Soil_Type_35  Soil_Type_36  Soil_Type_37  Soil_Type_38  \\\n0                  0             0             0             0             0   \n1                  0             0             0             0             0   \n2                  0             0             0             0             0   \n3                  0             0             0             0             0   \n4                  0             0             0             0             0   \n...              ...           ...           ...           ...           ...   \n581007             0             0             0             0             0   \n581008             0             0             0             0             0   \n581009             0             0             0             0             0   \n581010             0             0             0             0             0   \n581011             0             0             0             0             0   \n\n        Soil_Type_39  Soil_Type_40  Cover_Type  \n0                  0             0           5  \n1                  0             0           5  \n2                  0             0           2  \n3                  0             0           2  \n4                  0             0           5  \n...              ...           ...         ...  \n581007             0             0           3  \n581008             0             0           3  \n581009             0             0           3  \n581010             0             0           3  \n581011             0             0           3  \n\n[581012 rows x 55 columns]",
      "text/html": "<div>\n<style scoped>\n    .dataframe tbody tr th:only-of-type {\n        vertical-align: middle;\n    }\n\n    .dataframe tbody tr th {\n        vertical-align: top;\n    }\n\n    .dataframe thead th {\n        text-align: right;\n    }\n</style>\n<table border=\"1\" class=\"dataframe\">\n  <thead>\n    <tr style=\"text-align: right;\">\n      <th></th>\n      <th>Elevation</th>\n      <th>Aspect</th>\n      <th>Slope</th>\n      <th>Horizontal_Distance_To_Hydrology</th>\n      <th>Vertical_Distance_To_Hydrology</th>\n      <th>Horizontal_Distance_To_Roadways</th>\n      <th>Hillshade_9am</th>\n      <th>Hillshade_Noon</th>\n      <th>Hillshade_3pm</th>\n      <th>Horizontal_Distance_To_Fire_Points</th>\n      <th>...</th>\n      <th>Soil_Type_32</th>\n      <th>Soil_Type_33</th>\n      <th>Soil_Type_34</th>\n      <th>Soil_Type_35</th>\n      <th>Soil_Type_36</th>\n      <th>Soil_Type_37</th>\n      <th>Soil_Type_38</th>\n      <th>Soil_Type_39</th>\n      <th>Soil_Type_40</th>\n      <th>Cover_Type</th>\n    </tr>\n  </thead>\n  <tbody>\n    <tr>\n      <th>0</th>\n      <td>2596</td>\n      <td>51</td>\n      <td>3</td>\n      <td>258</td>\n      <td>0</td>\n      <td>510</td>\n      <td>221</td>\n      <td>232</td>\n      <td>148</td>\n      <td>6279</td>\n      <td>...</td>\n      <td>0</td>\n      <td>0</td>\n      <td>0</td>\n      <td>0</td>\n      <td>0</td>\n      <td>0</td>\n      <td>0</td>\n      <td>0</td>\n      <td>0</td>\n      <td>5</td>\n    </tr>\n    <tr>\n      <th>1</th>\n      <td>2590</td>\n      <td>56</td>\n      <td>2</td>\n      <td>212</td>\n      <td>-6</td>\n      <td>390</td>\n      <td>220</td>\n      <td>235</td>\n      <td>151</td>\n      <td>6225</td>\n      <td>...</td>\n      <td>0</td>\n      <td>0</td>\n      <td>0</td>\n      <td>0</td>\n      <td>0</td>\n      <td>0</td>\n      <td>0</td>\n      <td>0</td>\n      <td>0</td>\n      <td>5</td>\n    </tr>\n    <tr>\n      <th>2</th>\n      <td>2804</td>\n      <td>139</td>\n      <td>9</td>\n      <td>268</td>\n      <td>65</td>\n      <td>3180</td>\n      <td>234</td>\n      <td>238</td>\n      <td>135</td>\n      <td>6121</td>\n      <td>...</td>\n      <td>0</td>\n      <td>0</td>\n      <td>0</td>\n      <td>0</td>\n      <td>0</td>\n      <td>0</td>\n      <td>0</td>\n      <td>0</td>\n      <td>0</td>\n      <td>2</td>\n    </tr>\n    <tr>\n      <th>3</th>\n      <td>2785</td>\n      <td>155</td>\n      <td>18</td>\n      <td>242</td>\n      <td>118</td>\n      <td>3090</td>\n      <td>238</td>\n      <td>238</td>\n      <td>122</td>\n      <td>6211</td>\n      <td>...</td>\n      <td>0</td>\n      <td>0</td>\n      <td>0</td>\n      <td>0</td>\n      <td>0</td>\n      <td>0</td>\n      <td>0</td>\n      <td>0</td>\n      <td>0</td>\n      <td>2</td>\n    </tr>\n    <tr>\n      <th>4</th>\n      <td>2595</td>\n      <td>45</td>\n      <td>2</td>\n      <td>153</td>\n      <td>-1</td>\n      <td>391</td>\n      <td>220</td>\n      <td>234</td>\n      <td>150</td>\n      <td>6172</td>\n      <td>...</td>\n      <td>0</td>\n      <td>0</td>\n      <td>0</td>\n      <td>0</td>\n      <td>0</td>\n      <td>0</td>\n      <td>0</td>\n      <td>0</td>\n      <td>0</td>\n      <td>5</td>\n    </tr>\n    <tr>\n      <th>...</th>\n      <td>...</td>\n      <td>...</td>\n      <td>...</td>\n      <td>...</td>\n      <td>...</td>\n      <td>...</td>\n      <td>...</td>\n      <td>...</td>\n      <td>...</td>\n      <td>...</td>\n      <td>...</td>\n      <td>...</td>\n      <td>...</td>\n      <td>...</td>\n      <td>...</td>\n      <td>...</td>\n      <td>...</td>\n      <td>...</td>\n      <td>...</td>\n      <td>...</td>\n      <td>...</td>\n    </tr>\n    <tr>\n      <th>581007</th>\n      <td>2396</td>\n      <td>153</td>\n      <td>20</td>\n      <td>85</td>\n      <td>17</td>\n      <td>108</td>\n      <td>240</td>\n      <td>237</td>\n      <td>118</td>\n      <td>837</td>\n      <td>...</td>\n      <td>0</td>\n      <td>0</td>\n      <td>0</td>\n      <td>0</td>\n      <td>0</td>\n      <td>0</td>\n      <td>0</td>\n      <td>0</td>\n      <td>0</td>\n      <td>3</td>\n    </tr>\n    <tr>\n      <th>581008</th>\n      <td>2391</td>\n      <td>152</td>\n      <td>19</td>\n      <td>67</td>\n      <td>12</td>\n      <td>95</td>\n      <td>240</td>\n      <td>237</td>\n      <td>119</td>\n      <td>845</td>\n      <td>...</td>\n      <td>0</td>\n      <td>0</td>\n      <td>0</td>\n      <td>0</td>\n      <td>0</td>\n      <td>0</td>\n      <td>0</td>\n      <td>0</td>\n      <td>0</td>\n      <td>3</td>\n    </tr>\n    <tr>\n      <th>581009</th>\n      <td>2386</td>\n      <td>159</td>\n      <td>17</td>\n      <td>60</td>\n      <td>7</td>\n      <td>90</td>\n      <td>236</td>\n      <td>241</td>\n      <td>130</td>\n      <td>854</td>\n      <td>...</td>\n      <td>0</td>\n      <td>0</td>\n      <td>0</td>\n      <td>0</td>\n      <td>0</td>\n      <td>0</td>\n      <td>0</td>\n      <td>0</td>\n      <td>0</td>\n      <td>3</td>\n    </tr>\n    <tr>\n      <th>581010</th>\n      <td>2384</td>\n      <td>170</td>\n      <td>15</td>\n      <td>60</td>\n      <td>5</td>\n      <td>90</td>\n      <td>230</td>\n      <td>245</td>\n      <td>143</td>\n      <td>864</td>\n      <td>...</td>\n      <td>0</td>\n      <td>0</td>\n      <td>0</td>\n      <td>0</td>\n      <td>0</td>\n      <td>0</td>\n      <td>0</td>\n      <td>0</td>\n      <td>0</td>\n      <td>3</td>\n    </tr>\n    <tr>\n      <th>581011</th>\n      <td>2383</td>\n      <td>165</td>\n      <td>13</td>\n      <td>60</td>\n      <td>4</td>\n      <td>67</td>\n      <td>231</td>\n      <td>244</td>\n      <td>141</td>\n      <td>875</td>\n      <td>...</td>\n      <td>0</td>\n      <td>0</td>\n      <td>0</td>\n      <td>0</td>\n      <td>0</td>\n      <td>0</td>\n      <td>0</td>\n      <td>0</td>\n      <td>0</td>\n      <td>3</td>\n    </tr>\n  </tbody>\n</table>\n<p>581012 rows × 55 columns</p>\n</div>"
     },
     "execution_count": 2,
     "metadata": {},
     "output_type": "execute_result"
    }
   ],
   "source": [
    "# url = \"https://archive.ics.uci.edu/ml/machine-learning-databases/covtype/covtype.data.gz\"\n",
    "data = pd.read_csv('../covtype.data', header=None)\n",
    "\n",
    "columns = [\n",
    "    'Elevation', 'Aspect', 'Slope', 'Horizontal_Distance_To_Hydrology',\n",
    "    'Vertical_Distance_To_Hydrology', 'Horizontal_Distance_To_Roadways',\n",
    "    'Hillshade_9am', 'Hillshade_Noon', 'Hillshade_3pm',\n",
    "    'Horizontal_Distance_To_Fire_Points'\n",
    "]\n",
    "wilderness_areas = [f'Wilderness_Area_{i}' for i in range(1, 5)]\n",
    "soil_types = [f'Soil_Type_{i}' for i in range(1, 41)]\n",
    "columns.extend(wilderness_areas)\n",
    "columns.extend(soil_types)\n",
    "columns.append('Cover_Type')\n",
    "data.columns = columns\n",
    "data"
   ],
   "metadata": {
    "collapsed": false,
    "pycharm": {
     "name": "#%%\n"
    }
   }
  },
  {
   "cell_type": "code",
   "execution_count": null,
   "outputs": [],
   "source": [
    "data.loc[data['Cover_Type'] == 2]"
   ],
   "metadata": {
    "collapsed": false,
    "pycharm": {
     "name": "#%%\n"
    }
   }
  },
  {
   "cell_type": "code",
   "execution_count": null,
   "outputs": [],
   "source": [
    "data.loc[data['Cover_Type'] == 5]"
   ],
   "metadata": {
    "collapsed": false,
    "pycharm": {
     "name": "#%%\n"
    }
   }
  },
  {
   "cell_type": "code",
   "execution_count": null,
   "outputs": [],
   "source": [
    "cols = ['Elevation', 'Aspect', 'Slope', 'Horizontal_Distance_To_Hydrology',\n",
    "    'Vertical_Distance_To_Hydrology', 'Horizontal_Distance_To_Roadways',\n",
    "    'Hillshade_9am', 'Hillshade_Noon', 'Hillshade_3pm',\n",
    "    'Horizontal_Distance_To_Fire_Points', 'Cover_Type']\n",
    "data_subset = data[cols]\n",
    "correlation_matrix = np.corrcoef(data_subset.values.T)\n",
    "\n",
    "fig, ax = plt.subplots(figsize=(7, 7))\n",
    "sns.set(font_scale=1.1)\n",
    "sns.heatmap(data=correlation_matrix, square=True, cbar=True, annot=True, annot_kws={'size': 10}, xticklabels=cols, yticklabels=cols, fmt=\".2f\", linewidth=.5, cmap=sns.cubehelix_palette(as_cmap=True))"
   ],
   "metadata": {
    "collapsed": false,
    "pycharm": {
     "name": "#%%\n"
    }
   }
  },
  {
   "cell_type": "code",
   "execution_count": null,
   "outputs": [],
   "source": [
    "max_val_E = data['Elevation'].max()\n",
    "min_val_E = data['Elevation'].min()\n",
    "print(f\"Maximum value of 'Elevation' - row0: {max_val_E}\")\n",
    "print(f\"Minimum value of 'Elevation' - row0: {min_val_E}\")\n",
    "\n",
    "max_val_A = data['Aspect'].max()\n",
    "min_val_A = data['Aspect'].min()\n",
    "print(f\"Maximum value of 'Aspect' - row1: {max_val_A}\")\n",
    "print(f\"Minimum value of 'Aspect' - row1: {min_val_A}\")\n",
    "\n",
    "max_val_HH = data['Horizontal_Distance_To_Hydrology'].max()\n",
    "min_val_HH = data['Horizontal_Distance_To_Hydrology'].min()\n",
    "print(f\"Maximum value of 'Horizontal_Distance_To_Hydrology' - row3: {max_val_HH}\")\n",
    "print(f\"Minimum value of 'Horizontal_Distance_To_Hydrology' - row3: {min_val_HH}\")\n",
    "\n",
    "max_val_HR = data['Horizontal_Distance_To_Roadways'].max()\n",
    "min_val_HR = data['Horizontal_Distance_To_Roadways'].min()\n",
    "print(f\"Maximum value of 'Horizontal_Distance_To_Roadways' - row5: {max_val_HR}\")\n",
    "print(f\"Minimum value of 'Horizontal_Distance_To_Roadways' - row5: {min_val_HR}\")\n",
    "\n",
    "max_val_HFP = data['Horizontal_Distance_To_Fire_Points'].max()\n",
    "min_val_HFP = data['Horizontal_Distance_To_Fire_Points'].min()\n",
    "print(f\"Maximum value of 'Horizontal_Distance_To_Fire_Points' - row9: {max_val_HFP}\")\n",
    "print(f\"Minimum value of 'Horizontal_Distance_To_Fire_Points' - row9: {min_val_HFP}\")"
   ],
   "metadata": {
    "collapsed": false,
    "pycharm": {
     "name": "#%%\n"
    }
   }
  },
  {
   "cell_type": "code",
   "execution_count": null,
   "outputs": [],
   "source": [
    "def make_hist(col_name, bins_val):\n",
    "    min = data[col_name].min()\n",
    "    max = data[col_name].max()\n",
    "    print(f\"Lowest {col_name} value: {min}. Highest {col_name} value: {max}.\")\n",
    "    plot_hist = data[col_name].plot.hist(bins=bins_val, grid=True)\n",
    "    plot_hist.set_title(f\"Represents number of cars for each production {col_name.upper()} category\")\n",
    "    plot_hist.set_xlabel(f\"{col_name}\")\n",
    "    plot_hist.set_ylabel(\"Number of observations\")\n",
    "    plt.show()"
   ],
   "metadata": {
    "collapsed": false,
    "pycharm": {
     "name": "#%%\n"
    }
   }
  },
  {
   "cell_type": "code",
   "execution_count": null,
   "outputs": [],
   "source": [
    "make_hist(\"Elevation\", 57)"
   ],
   "metadata": {
    "collapsed": false,
    "pycharm": {
     "name": "#%%\n"
    }
   }
  },
  {
   "cell_type": "code",
   "execution_count": null,
   "outputs": [],
   "source": [
    "make_hist(\"Aspect\", 57)"
   ],
   "metadata": {
    "collapsed": false,
    "pycharm": {
     "name": "#%%\n"
    }
   }
  },
  {
   "cell_type": "code",
   "execution_count": null,
   "outputs": [],
   "source": [
    "make_hist(\"Horizontal_Distance_To_Hydrology\", 57)"
   ],
   "metadata": {
    "collapsed": false,
    "pycharm": {
     "name": "#%%\n"
    }
   }
  },
  {
   "cell_type": "code",
   "execution_count": null,
   "outputs": [],
   "source": [
    "make_hist(\"Horizontal_Distance_To_Roadways\", 57)"
   ],
   "metadata": {
    "collapsed": false,
    "pycharm": {
     "name": "#%%\n"
    }
   }
  },
  {
   "cell_type": "code",
   "execution_count": null,
   "outputs": [],
   "source": [
    "make_hist(\"Horizontal_Distance_To_Fire_Points\", 57)"
   ],
   "metadata": {
    "collapsed": false,
    "pycharm": {
     "name": "#%%\n"
    }
   }
  },
  {
   "cell_type": "code",
   "execution_count": null,
   "outputs": [],
   "source": [
    "X = data.drop('Cover_Type', axis=1)\n",
    "y = data['Cover_Type']"
   ],
   "metadata": {
    "collapsed": false,
    "pycharm": {
     "name": "#%%\n"
    }
   }
  },
  {
   "cell_type": "code",
   "execution_count": null,
   "outputs": [],
   "source": [
    "mean_E = data['Elevation'].mean()\n",
    "print(mean_E)\n",
    "mean_A = data['Aspect'].mean()\n",
    "print(mean_A)\n",
    "mean_HH = data['Horizontal_Distance_To_Hydrology'].mean()\n",
    "print(mean_HH)\n",
    "mean_HR = data['Horizontal_Distance_To_Roadways'].mean()\n",
    "print(mean_HR)\n",
    "mean_S = data['Slope'].mean()\n",
    "print(mean_S)\n",
    "mean_VDH = data['Vertical_Distance_To_Hydrology'].mean()\n",
    "print(mean_VDH)\n",
    "mean_HFP = data['Horizontal_Distance_To_Fire_Points'].mean()\n",
    "print(mean_HFP)"
   ],
   "metadata": {
    "collapsed": false,
    "pycharm": {
     "name": "#%%\n"
    }
   }
  },
  {
   "cell_type": "code",
   "execution_count": null,
   "outputs": [],
   "source": [
    "def my_heuristic_algorithm(row):\n",
    "    if row['Elevation'] > 3000 and row['Slope'] < 15:\n",
    "        return 1\n",
    "    elif row['Elevation'] < 3000 and row['Slope'] < 10:\n",
    "        return 2\n",
    "    elif row['Elevation'] < 2500 and row['Slope'] > 10:\n",
    "        return 3\n",
    "    elif 180 < row['Aspect'] < 270 and row['Hillshade_Noon'] > 200:\n",
    "        return 4\n",
    "    elif 270 < row['Aspect'] < 360 and row['Hillshade_3pm'] > 150:\n",
    "        return 5\n",
    "    elif row['Wilderness_Area_1'] == 1 and row['Soil_Type_10'] == 1:\n",
    "        return 6\n",
    "    else:\n",
    "        return 7\n",
    "\n",
    "\n",
    "data['predicted_cover_type'] = data.apply(my_heuristic_algorithm, axis=1)\n",
    "\n",
    "# # Wykorzystanie algorytmu heurystycznego do dokonania predykcji\n",
    "# y_pred = X.apply(my_heuristic_algorithm, axis=1)\n",
    "#\n",
    "# # Wyświetlenie wyników\n",
    "# print(y_pred.value_counts())\n",
    "\n",
    "# Calculate the percentage of samples that are classified correctly\n",
    "accuracy = (data['predicted_cover_type'] == data['Cover_Type']).mean() * 100\n",
    "print(f'Accuracy: {accuracy:.2f}%')"
   ],
   "metadata": {
    "collapsed": false,
    "pycharm": {
     "name": "#%%\n"
    }
   }
  },
  {
   "cell_type": "code",
   "execution_count": null,
   "outputs": [],
   "source": [
    "sample_row = pd.Series({\n",
    "    'Elevation': 2800,\n",
    "    'Slope': 12,\n",
    "    'Aspect': 220,\n",
    "    'Hillshade_Noon': 220,\n",
    "    'Wilderness_Area_3': 1,\n",
    "    'Horizontal_Distance_To_Hydrology': 120,\n",
    "    'Hillshade_9am': 160\n",
    "})\n",
    "\n",
    "# Predict the cover type for the sample row\n",
    "predicted_cover_type = my_heuristic_algorithm(sample_row)\n",
    "\n",
    "print(predicted_cover_type)"
   ],
   "metadata": {
    "collapsed": false,
    "pycharm": {
     "name": "#%%\n"
    }
   }
  },
  {
   "cell_type": "code",
   "execution_count": null,
   "outputs": [],
   "source": [],
   "metadata": {
    "collapsed": false,
    "pycharm": {
     "name": "#%%\n"
    }
   }
  }
 ],
 "metadata": {
  "kernelspec": {
   "display_name": "Python 3",
   "language": "python",
   "name": "python3"
  },
  "language_info": {
   "codemirror_mode": {
    "name": "ipython",
    "version": 2
   },
   "file_extension": ".py",
   "mimetype": "text/x-python",
   "name": "python",
   "nbconvert_exporter": "python",
   "pygments_lexer": "ipython2",
   "version": "2.7.6"
  }
 },
 "nbformat": 4,
 "nbformat_minor": 0
}