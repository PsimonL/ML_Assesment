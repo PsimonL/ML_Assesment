{
 "cells": [
  {
   "cell_type": "code",
   "execution_count": null,
   "metadata": {
    "collapsed": true,
    "pycharm": {
     "name": "#%%\n"
    }
   },
   "outputs": [],
   "source": [
    "import pandas as pd\n",
    "import numpy as np\n",
    "import seaborn as sns\n",
    "import matplotlib.pyplot as plt"
   ]
  },
  {
   "cell_type": "code",
   "execution_count": null,
   "outputs": [],
   "source": [
    "# url = \"https://archive.ics.uci.edu/ml/machine-learning-databases/covtype/covtype.data.gz\"\n",
    "data = pd.read_csv('../covtype.data', header=None)\n",
    "\n",
    "columns = [\n",
    "    'Elevation', 'Aspect', 'Slope', 'Horizontal_Distance_To_Hydrology',\n",
    "    'Vertical_Distance_To_Hydrology', 'Horizontal_Distance_To_Roadways',\n",
    "    'Hillshade_9am', 'Hillshade_Noon', 'Hillshade_3pm',\n",
    "    'Horizontal_Distance_To_Fire_Points'\n",
    "]\n",
    "wilderness_areas = [f'Wilderness_Area_{i}' for i in range(1, 5)]\n",
    "soil_types = [f'Soil_Type_{i}' for i in range(1, 41)]\n",
    "columns.extend(wilderness_areas)\n",
    "columns.extend(soil_types)\n",
    "columns.append('Cover_Type')\n",
    "data.columns = columns\n",
    "data"
   ],
   "metadata": {
    "collapsed": false,
    "pycharm": {
     "name": "#%%\n"
    }
   }
  },
  {
   "cell_type": "code",
   "execution_count": null,
   "outputs": [],
   "source": [
    "data.loc[data['Cover_Type'] == 2]"
   ],
   "metadata": {
    "collapsed": false,
    "pycharm": {
     "name": "#%%\n"
    }
   }
  },
  {
   "cell_type": "code",
   "execution_count": null,
   "outputs": [],
   "source": [
    "data.loc[data['Cover_Type'] == 5]"
   ],
   "metadata": {
    "collapsed": false,
    "pycharm": {
     "name": "#%%\n"
    }
   }
  },
  {
   "cell_type": "code",
   "execution_count": null,
   "outputs": [],
   "source": [
    "cols = ['Elevation', 'Aspect', 'Slope', 'Horizontal_Distance_To_Hydrology',\n",
    "    'Vertical_Distance_To_Hydrology', 'Horizontal_Distance_To_Roadways',\n",
    "    'Hillshade_9am', 'Hillshade_Noon', 'Hillshade_3pm',\n",
    "    'Horizontal_Distance_To_Fire_Points', 'Cover_Type']\n",
    "data_subset = data[cols]\n",
    "correlation_matrix = np.corrcoef(data_subset.values.T)\n",
    "\n",
    "fig, ax = plt.subplots(figsize=(7, 7))\n",
    "sns.set(font_scale=1.1)\n",
    "sns.heatmap(data=correlation_matrix, square=True, cbar=True, annot=True, annot_kws={'size': 10}, xticklabels=cols, yticklabels=cols, fmt=\".2f\", linewidth=.5, cmap=sns.cubehelix_palette(as_cmap=True))"
   ],
   "metadata": {
    "collapsed": false,
    "pycharm": {
     "name": "#%%\n"
    }
   }
  },
  {
   "cell_type": "code",
   "execution_count": null,
   "outputs": [],
   "source": [
    "max_val_E = data['Elevation'].max()\n",
    "min_val_E = data['Elevation'].min()\n",
    "print(f\"Maximum value of 'Elevation' - row0: {max_val_E}\")\n",
    "print(f\"Minimum value of 'Elevation' - row0: {min_val_E}\")\n",
    "\n",
    "max_val_A = data['Aspect'].max()\n",
    "min_val_A = data['Aspect'].min()\n",
    "print(f\"Maximum value of 'Aspect' - row1: {max_val_A}\")\n",
    "print(f\"Minimum value of 'Aspect' - row1: {min_val_A}\")\n",
    "\n",
    "max_val_HH = data['Horizontal_Distance_To_Hydrology'].max()\n",
    "min_val_HH = data['Horizontal_Distance_To_Hydrology'].min()\n",
    "print(f\"Maximum value of 'Horizontal_Distance_To_Hydrology' - row3: {max_val_HH}\")\n",
    "print(f\"Minimum value of 'Horizontal_Distance_To_Hydrology' - row3: {min_val_HH}\")\n",
    "\n",
    "max_val_HR = data['Horizontal_Distance_To_Roadways'].max()\n",
    "min_val_HR = data['Horizontal_Distance_To_Roadways'].min()\n",
    "print(f\"Maximum value of 'Horizontal_Distance_To_Roadways' - row5: {max_val_HR}\")\n",
    "print(f\"Minimum value of 'Horizontal_Distance_To_Roadways' - row5: {min_val_HR}\")\n",
    "\n",
    "max_val_HFP = data['Horizontal_Distance_To_Fire_Points'].max()\n",
    "min_val_HFP = data['Horizontal_Distance_To_Fire_Points'].min()\n",
    "print(f\"Maximum value of 'Horizontal_Distance_To_Fire_Points' - row9: {max_val_HFP}\")\n",
    "print(f\"Minimum value of 'Horizontal_Distance_To_Fire_Points' - row9: {min_val_HFP}\")"
   ],
   "metadata": {
    "collapsed": false,
    "pycharm": {
     "name": "#%%\n"
    }
   }
  },
  {
   "cell_type": "code",
   "execution_count": null,
   "outputs": [],
   "source": [
    "def make_hist(col_name, bins_val):\n",
    "    min = data[col_name].min()\n",
    "    max = data[col_name].max()\n",
    "    print(f\"Lowest {col_name} value: {min}. Highest {col_name} value: {max}.\")\n",
    "    plot_hist = data[col_name].plot.hist(bins=bins_val, grid=True)\n",
    "    plot_hist.set_title(f\"Represents number of cars for each production {col_name.upper()} category\")\n",
    "    plot_hist.set_xlabel(f\"{col_name}\")\n",
    "    plot_hist.set_ylabel(\"Number of observations\")\n",
    "    plt.show()"
   ],
   "metadata": {
    "collapsed": false,
    "pycharm": {
     "name": "#%%\n"
    }
   }
  },
  {
   "cell_type": "code",
   "execution_count": null,
   "outputs": [],
   "source": [
    "make_hist(\"Elevation\", 57)"
   ],
   "metadata": {
    "collapsed": false,
    "pycharm": {
     "name": "#%%\n"
    }
   }
  },
  {
   "cell_type": "code",
   "execution_count": null,
   "outputs": [],
   "source": [
    "make_hist(\"Aspect\", 57)"
   ],
   "metadata": {
    "collapsed": false,
    "pycharm": {
     "name": "#%%\n"
    }
   }
  },
  {
   "cell_type": "code",
   "execution_count": null,
   "outputs": [],
   "source": [
    "make_hist(\"Slope\", 57)"
   ],
   "metadata": {
    "collapsed": false,
    "pycharm": {
     "name": "#%%\n"
    }
   }
  },
  {
   "cell_type": "code",
   "execution_count": null,
   "outputs": [],
   "source": [
    "make_hist(\"Horizontal_Distance_To_Hydrology\", 57)"
   ],
   "metadata": {
    "collapsed": false,
    "pycharm": {
     "name": "#%%\n"
    }
   }
  },
  {
   "cell_type": "code",
   "execution_count": null,
   "outputs": [],
   "source": [
    "make_hist(\"Horizontal_Distance_To_Roadways\", 57)"
   ],
   "metadata": {
    "collapsed": false,
    "pycharm": {
     "name": "#%%\n"
    }
   }
  },
  {
   "cell_type": "code",
   "execution_count": null,
   "outputs": [],
   "source": [
    "make_hist(\"Horizontal_Distance_To_Fire_Points\", 57)"
   ],
   "metadata": {
    "collapsed": false,
    "pycharm": {
     "name": "#%%\n"
    }
   }
  },
  {
   "cell_type": "code",
   "execution_count": null,
   "outputs": [],
   "source": [
    "X = data.drop('Cover_Type', axis=1)\n",
    "y = data['Cover_Type']"
   ],
   "metadata": {
    "collapsed": false,
    "pycharm": {
     "name": "#%%\n"
    }
   }
  },
  {
   "cell_type": "code",
   "execution_count": null,
   "outputs": [],
   "source": [
    "mean_E = data['Elevation'].mean()\n",
    "print(mean_E)\n",
    "mean_A = data['Aspect'].mean()\n",
    "print(mean_A)\n",
    "mean_HH = data['Horizontal_Distance_To_Hydrology'].mean()\n",
    "print(mean_HH)\n",
    "mean_HR = data['Horizontal_Distance_To_Roadways'].mean()\n",
    "print(mean_HR)\n",
    "mean_S = data['Slope'].mean()\n",
    "print(mean_S)\n",
    "mean_VDH = data['Vertical_Distance_To_Hydrology'].mean()\n",
    "print(mean_VDH)\n",
    "mean_HFP = data['Horizontal_Distance_To_Fire_Points'].mean()\n",
    "print(mean_HFP)"
   ],
   "metadata": {
    "collapsed": false,
    "pycharm": {
     "name": "#%%\n"
    }
   }
  },
  {
   "cell_type": "code",
   "execution_count": null,
   "outputs": [],
   "source": [
    "def my_heuristic_algorithm(row):\n",
    "    if row['Elevation'] > 3000 and row['Slope'] < 20:\n",
    "        return 1\n",
    "    elif row['Elevation'] < 3000 and row['Slope'] < 15:\n",
    "        return 2\n",
    "    elif row['Elevation'] < 2500 and row['Slope'] > 10:\n",
    "        return 3\n",
    "    elif 180 < row['Aspect'] < 150 and row['Hillshade_Noon'] > 200 and  row['Horizontal_Distance_To_Roadways'] > 2000:\n",
    "        return 4\n",
    "    elif 270 < row['Aspect'] < 300 and row['Hillshade_3pm'] > 150 and  row['Horizontal_Distance_To_Roadways'] < 2000:\n",
    "        return 5\n",
    "    elif row['Wilderness_Area_1'] == 0 and row['Soil_Type_10'] == 1:\n",
    "        return 6\n",
    "    else:\n",
    "        return 7\n",
    "data['predicted_cover_type'] = data.apply(my_heuristic_algorithm, axis=1)\n",
    "\n",
    "# # Wykorzystanie algorytmu heurystycznego do dokonania predykcji\n",
    "# y_pred = X.apply(my_heuristic_algorithm, axis=1)\n",
    "#\n",
    "# # Wyświetlenie wyników\n",
    "# print(y_pred.value_counts())\n",
    "\n",
    "# Calculate the percentage of samples that are classified correctly\n",
    "accuracy = (data['predicted_cover_type'] == data['Cover_Type']).mean() * 100\n",
    "print(f'Accuracy: {accuracy:.2f}%')"
   ],
   "metadata": {
    "collapsed": false,
    "pycharm": {
     "name": "#%%\n"
    }
   }
  },
  {
   "cell_type": "code",
   "execution_count": null,
   "outputs": [],
   "source": [
    "sample_row = pd.Series({\n",
    "    'Elevation': 2800,\n",
    "    'Slope': 12,\n",
    "    'Aspect': 220,\n",
    "    'Hillshade_Noon': 220,\n",
    "    'Wilderness_Area_3': 1,\n",
    "    'Horizontal_Distance_To_Hydrology': 120,\n",
    "    'Hillshade_9am': 160\n",
    "})\n",
    "\n",
    "# Predict the cover type for the sample row\n",
    "predicted_cover_type = my_heuristic_algorithm(sample_row)\n",
    "\n",
    "print(predicted_cover_type)"
   ],
   "metadata": {
    "collapsed": false,
    "pycharm": {
     "name": "#%%\n"
    }
   }
  },
  {
   "cell_type": "code",
   "execution_count": null,
   "outputs": [],
   "source": [],
   "metadata": {
    "collapsed": false,
    "pycharm": {
     "name": "#%%\n"
    }
   }
  }
 ],
 "metadata": {
  "kernelspec": {
   "display_name": "Python 3",
   "language": "python",
   "name": "python3"
  },
  "language_info": {
   "codemirror_mode": {
    "name": "ipython",
    "version": 2
   },
   "file_extension": ".py",
   "mimetype": "text/x-python",
   "name": "python",
   "nbconvert_exporter": "python",
   "pygments_lexer": "ipython2",
   "version": "2.7.6"
  }
 },
 "nbformat": 4,
 "nbformat_minor": 0
}